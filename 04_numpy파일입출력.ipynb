{
 "cells": [
  {
   "cell_type": "markdown",
   "metadata": {},
   "source": [
    "#### 파일 처리\n",
    " - ndarray의 정보를 파일로 저장할 수 있다\n",
    " - 일반적인 파일 확장자는 npy를 사용한다"
   ]
  },
  {
   "cell_type": "code",
   "execution_count": 4,
   "metadata": {},
   "outputs": [],
   "source": [
    "import numpy as np"
   ]
  },
  {
   "cell_type": "code",
   "execution_count": 5,
   "metadata": {},
   "outputs": [
    {
     "name": "stdout",
     "output_type": "stream",
     "text": [
      "[[ 0.96035878 -1.23157552 -0.84192601 -0.34810761 -0.0685516 ]\n",
      " [ 1.96228846 -1.62561323  1.04577067 -0.05692179  0.25628654]\n",
      " [-1.28693802 -0.10575714  0.30342508 -0.75813897  0.79826009]]\n"
     ]
    }
   ],
   "source": [
    "# 파일 저장(tofile)\n",
    "n = np.random.randn(3,5)\n",
    "print(n)\n",
    "n.tofile('n.npy')"
   ]
  },
  {
   "cell_type": "code",
   "execution_count": 6,
   "metadata": {},
   "outputs": [
    {
     "name": "stdout",
     "output_type": "stream",
     "text": [
      "[ 0.96035878 -1.23157552 -0.84192601 -0.34810761 -0.0685516   1.96228846\n",
      " -1.62561323  1.04577067 -0.05692179  0.25628654 -1.28693802 -0.10575714\n",
      "  0.30342508 -0.75813897  0.79826009]\n"
     ]
    }
   ],
   "source": [
    "# 파일 불러오기(fromfile)\n",
    "m = np.fromfile('n.npy')\n",
    "print(m)"
   ]
  },
  {
   "cell_type": "code",
   "execution_count": 7,
   "metadata": {},
   "outputs": [
    {
     "name": "stdout",
     "output_type": "stream",
     "text": [
      "[ 0.96035878 -1.23157552 -0.84192601 -0.34810761 -0.0685516   1.96228846\n",
      " -1.62561323  1.04577067 -0.05692179  0.25628654 -1.28693802 -0.10575714\n",
      "  0.30342508 -0.75813897  0.79826009]\n"
     ]
    }
   ],
   "source": [
    "np.fromfile('C:/STUDY/Numpy/n.npy').reshape(3,5)   #shape(3,5)\n",
    "print(m)"
   ]
  },
  {
   "cell_type": "code",
   "execution_count": 8,
   "metadata": {},
   "outputs": [
    {
     "name": "stdout",
     "output_type": "stream",
     "text": [
      "[[ 0.96035878 -1.23157552 -0.84192601 -0.34810761 -0.0685516 ]\n",
      " [ 1.96228846 -1.62561323  1.04577067 -0.05692179  0.25628654]\n",
      " [-1.28693802 -0.10575714  0.30342508 -0.75813897  0.79826009]]\n"
     ]
    }
   ],
   "source": [
    "# 파일 저장, 불러오기(np.save, np.load)\n",
    "np.save('n1.npy',n)\n",
    "m1 = np.load('n1.npy')\n",
    "print(m1)"
   ]
  },
  {
   "cell_type": "code",
   "execution_count": 9,
   "metadata": {},
   "outputs": [
    {
     "ename": "ValueError",
     "evalue": "Cannot load file containing pickled data when allow_pickle=False",
     "output_type": "error",
     "traceback": [
      "\u001b[1;31m---------------------------------------------------------------------------\u001b[0m",
      "\u001b[1;31mValueError\u001b[0m                                Traceback (most recent call last)",
      "\u001b[1;32mc:\\STUDY\\Numpy\\04_numpy파일입출력.ipynb Cell 7'\u001b[0m in \u001b[0;36m<cell line: 3>\u001b[1;34m()\u001b[0m\n\u001b[0;32m      <a href='vscode-notebook-cell:/c%3A/STUDY/Numpy/04_numpy%ED%8C%8C%EC%9D%BC%EC%9E%85%EC%B6%9C%EB%A0%A5.ipynb#ch0000006?line=0'>1</a>\u001b[0m \u001b[39m# n.tofile > n.npy\u001b[39;00m\n\u001b[0;32m      <a href='vscode-notebook-cell:/c%3A/STUDY/Numpy/04_numpy%ED%8C%8C%EC%9D%BC%EC%9E%85%EC%B6%9C%EB%A0%A5.ipynb#ch0000006?line=1'>2</a>\u001b[0m \u001b[39m# np.load('n.npy')\u001b[39;00m\n\u001b[1;32m----> <a href='vscode-notebook-cell:/c%3A/STUDY/Numpy/04_numpy%ED%8C%8C%EC%9D%BC%EC%9E%85%EC%B6%9C%EB%A0%A5.ipynb#ch0000006?line=2'>3</a>\u001b[0m np\u001b[39m.\u001b[39;49mload(\u001b[39m'\u001b[39;49m\u001b[39mn.npy\u001b[39;49m\u001b[39m'\u001b[39;49m)\n",
      "File \u001b[1;32mc:\\DEV\\Langs\\Python\\Python39\\lib\\site-packages\\numpy\\lib\\npyio.py:435\u001b[0m, in \u001b[0;36mload\u001b[1;34m(file, mmap_mode, allow_pickle, fix_imports, encoding)\u001b[0m\n\u001b[0;32m    <a href='file:///c%3A/DEV/Langs/Python/Python39/lib/site-packages/numpy/lib/npyio.py?line=431'>432</a>\u001b[0m \u001b[39melse\u001b[39;00m:\n\u001b[0;32m    <a href='file:///c%3A/DEV/Langs/Python/Python39/lib/site-packages/numpy/lib/npyio.py?line=432'>433</a>\u001b[0m     \u001b[39m# Try a pickle\u001b[39;00m\n\u001b[0;32m    <a href='file:///c%3A/DEV/Langs/Python/Python39/lib/site-packages/numpy/lib/npyio.py?line=433'>434</a>\u001b[0m     \u001b[39mif\u001b[39;00m \u001b[39mnot\u001b[39;00m allow_pickle:\n\u001b[1;32m--> <a href='file:///c%3A/DEV/Langs/Python/Python39/lib/site-packages/numpy/lib/npyio.py?line=434'>435</a>\u001b[0m         \u001b[39mraise\u001b[39;00m \u001b[39mValueError\u001b[39;00m(\u001b[39m\"\u001b[39m\u001b[39mCannot load file containing pickled data \u001b[39m\u001b[39m\"\u001b[39m\n\u001b[0;32m    <a href='file:///c%3A/DEV/Langs/Python/Python39/lib/site-packages/numpy/lib/npyio.py?line=435'>436</a>\u001b[0m                          \u001b[39m\"\u001b[39m\u001b[39mwhen allow_pickle=False\u001b[39m\u001b[39m\"\u001b[39m)\n\u001b[0;32m    <a href='file:///c%3A/DEV/Langs/Python/Python39/lib/site-packages/numpy/lib/npyio.py?line=436'>437</a>\u001b[0m     \u001b[39mtry\u001b[39;00m:\n\u001b[0;32m    <a href='file:///c%3A/DEV/Langs/Python/Python39/lib/site-packages/numpy/lib/npyio.py?line=437'>438</a>\u001b[0m         \u001b[39mreturn\u001b[39;00m pickle\u001b[39m.\u001b[39mload(fid, \u001b[39m*\u001b[39m\u001b[39m*\u001b[39mpickle_kwargs)\n",
      "\u001b[1;31mValueError\u001b[0m: Cannot load file containing pickled data when allow_pickle=False"
     ]
    }
   ],
   "source": [
    "# n.tofile > n.npy\n",
    "# np.load('n.npy')\n",
    "## np.load('n.npy')\n",
    "\n",
    "# 당연 다른방식으로 저장된거라 못불러옴 \n",
    "# 주석처리"
   ]
  },
  {
   "cell_type": "markdown",
   "metadata": {},
   "source": [
    "###### 2022-05-26"
   ]
  },
  {
   "cell_type": "code",
   "execution_count": 10,
   "metadata": {},
   "outputs": [],
   "source": [
    "# txt 파일 저장(np.savetxt)\n",
    "np.savetxt('n.txt',n)"
   ]
  },
  {
   "cell_type": "code",
   "execution_count": 11,
   "metadata": {},
   "outputs": [
    {
     "data": {
      "text/plain": [
       "array([[ 0.96035878, -1.23157552, -0.84192601, -0.34810761, -0.0685516 ],\n",
       "       [ 1.96228846, -1.62561323,  1.04577067, -0.05692179,  0.25628654],\n",
       "       [-1.28693802, -0.10575714,  0.30342508, -0.75813897,  0.79826009]])"
      ]
     },
     "execution_count": 11,
     "metadata": {},
     "output_type": "execute_result"
    }
   ],
   "source": [
    "# txt 파일 불러오기(np.loadtxt)\n",
    "np.loadtxt('n.txt')"
   ]
  },
  {
   "cell_type": "code",
   "execution_count": 14,
   "metadata": {},
   "outputs": [],
   "source": [
    "# csv 파일 저장, 불러오기\n",
    "np.savetxt('n.csv', n, delimiter= ',')  #확장자만 csv로 바꾸면 됨"
   ]
  },
  {
   "cell_type": "code",
   "execution_count": 16,
   "metadata": {},
   "outputs": [
    {
     "data": {
      "text/plain": [
       "array([[ 0.96035878, -1.23157552, -0.84192601, -0.34810761, -0.0685516 ],\n",
       "       [ 1.96228846, -1.62561323,  1.04577067, -0.05692179,  0.25628654],\n",
       "       [-1.28693802, -0.10575714,  0.30342508, -0.75813897,  0.79826009]])"
      ]
     },
     "execution_count": 16,
     "metadata": {},
     "output_type": "execute_result"
    }
   ],
   "source": [
    "# csv 파일 불러오기\n",
    "np.loadtxt('n.csv', delimiter=',')"
   ]
  },
  {
   "cell_type": "code",
   "execution_count": 60,
   "metadata": {},
   "outputs": [
    {
     "name": "stdout",
     "output_type": "stream",
     "text": [
      "[[ 1  2  3  4  5]\n",
      " [ 6  7  8  9 10]\n",
      " [11 12 13 14 15]\n",
      " [16 17 18 19 20]\n",
      " [21 22 23 24 25]]\n"
     ]
    }
   ],
   "source": [
    "# 문제1 #  1~25범위의 5x5 int8의 2차원 행렬 생성, 구분자는 콤마로 지정, data.csv에 저장\n",
    "d = np.arange(1,26,dtype=np.int8).reshape(5,5)\n",
    "np.savetxt('data.csv', d, delimiter= ',')\n",
    "np.loadtxt('data.csv', delimiter=',')\n",
    "print(d)"
   ]
  },
  {
   "cell_type": "code",
   "execution_count": 61,
   "metadata": {},
   "outputs": [
    {
     "name": "stdout",
     "output_type": "stream",
     "text": [
      "[['1' '15' '14' '4']\n",
      " ['12' '6' '7' '9']\n",
      " ['8' '10' '11' '5']\n",
      " ['13' '3' '2' '16']]\n"
     ]
    }
   ],
   "source": [
    "# 문제2 #  06_data1.txt파일을 읽어와서 dtype=str로 변수 arr1에 저장, 출력\n",
    "arr1 = np.loadtxt('C:/STUDY/data/06_data1.txt', delimiter='\\t', dtype=np.str_)\n",
    "print(arr1)"
   ]
  },
  {
   "cell_type": "code",
   "execution_count": 56,
   "metadata": {},
   "outputs": [
    {
     "name": "stdout",
     "output_type": "stream",
     "text": [
      "[[ 1 15 14  4]\n",
      " [12  6  7  9]\n",
      " [ 8 10 11  5]\n",
      " [13  3  2 16]]\n"
     ]
    }
   ],
   "source": [
    "# 문제3 #  06_data2.txt파일을 읽어와서 변수arr2에 저장, 출력\n",
    "arr2 = np.loadtxt('C:/STUDY/data/06_data2.txt', delimiter=',', dtype=np.int8)\n",
    "print(arr2)"
   ]
  },
  {
   "cell_type": "markdown",
   "metadata": {},
   "source": [
    "#### 01. 파일 읽어오기"
   ]
  },
  {
   "cell_type": "code",
   "execution_count": 63,
   "metadata": {},
   "outputs": [
    {
     "name": "stdout",
     "output_type": "stream",
     "text": [
      "[[      1  565082     273   27177]\n",
      " [      2 2827233     444   45111]\n",
      " [      3 1144913     289   29043]\n",
      " [      4 1131034     230   22436]\n",
      " [      5  380425     391   38020]]\n"
     ]
    }
   ],
   "source": [
    "data = np.loadtxt('C:/STUDY/data/ex1_지역별전기요금.csv', delimiter=',',\n",
    "                        dtype=int)\n",
    "print(data[:5, :])  # 상위 5개 데이터 출력"
   ]
  },
  {
   "cell_type": "markdown",
   "metadata": {},
   "source": [
    "#### 02. 데이터 확인하기"
   ]
  },
  {
   "cell_type": "code",
   "execution_count": 64,
   "metadata": {},
   "outputs": [
    {
     "name": "stdout",
     "output_type": "stream",
     "text": [
      "(17, 4)\n"
     ]
    }
   ],
   "source": [
    "# 데이터의 모양 확인\n",
    "print(data.shape)"
   ]
  },
  {
   "cell_type": "code",
   "execution_count": 65,
   "metadata": {},
   "outputs": [
    {
     "name": "stdout",
     "output_type": "stream",
     "text": [
      "[ 1  2  3  4  5  6  7  8  9 10 11 12 13 14 15 16 17]\n"
     ]
    }
   ],
   "source": [
    "# 중복 지역 확인\n",
    "print(np.unique(data[:,0]))"
   ]
  },
  {
   "cell_type": "code",
   "execution_count": 66,
   "metadata": {},
   "outputs": [
    {
     "name": "stdout",
     "output_type": "stream",
     "text": [
      "[ 9 14 10  4  6  0 16 13  5 12 11 15  7  3  2  8  1]\n"
     ]
    }
   ],
   "source": [
    "# 데이터의 크기순 정렬(argsort 사용)\n",
    "print(data[:,1].argsort())  #sort쓰면 멋대로 행 섞어버려서 argsort써야됨"
   ]
  },
  {
   "cell_type": "code",
   "execution_count": 67,
   "metadata": {},
   "outputs": [
    {
     "name": "stdout",
     "output_type": "stream",
     "text": [
      "[[     10   49394     580   57091]\n",
      " [     15  258605     221   22180]\n",
      " [     11  323151     353   35470]\n",
      " [      5  380425     391   38020]\n",
      " [      7  425659     344   32331]\n",
      " [      1  565082     273   27177]\n",
      " [     17  584500     268   26899]\n",
      " [     14  634696     285   28556]\n",
      " [      6  668623     364   35245]\n",
      " [     13  726699     249   25120]\n",
      " [     12  734723     398   40049]\n",
      " [     16  742285     282   27901]\n",
      " [      8  947300     366   36274]\n",
      " [      4 1131034     230   22436]\n",
      " [      3 1144913     289   29043]\n",
      " [      9 2737725     361   36569]\n",
      " [      2 2827233     444   45111]]\n"
     ]
    }
   ],
   "source": [
    "# fancy index\n",
    "print(data[data[:,1].argsort()]) #오름차순"
   ]
  },
  {
   "cell_type": "code",
   "execution_count": 69,
   "metadata": {},
   "outputs": [
    {
     "name": "stdout",
     "output_type": "stream",
     "text": [
      "[[      2 2827233     444   45111]\n",
      " [      9 2737725     361   36569]\n",
      " [      3 1144913     289   29043]\n",
      " [      4 1131034     230   22436]\n",
      " [      8  947300     366   36274]\n",
      " [     16  742285     282   27901]\n",
      " [     12  734723     398   40049]\n",
      " [     13  726699     249   25120]\n",
      " [      6  668623     364   35245]\n",
      " [     14  634696     285   28556]\n",
      " [     17  584500     268   26899]\n",
      " [      1  565082     273   27177]\n",
      " [      7  425659     344   32331]\n",
      " [      5  380425     391   38020]\n",
      " [     11  323151     353   35470]\n",
      " [     15  258605     221   22180]\n",
      " [     10   49394     580   57091]]\n"
     ]
    }
   ],
   "source": [
    "print(data[data[:,1].argsort()[::-1]]) #내림차순"
   ]
  },
  {
   "cell_type": "markdown",
   "metadata": {},
   "source": [
    "#### 03. 데이터 통계"
   ]
  },
  {
   "cell_type": "code",
   "execution_count": 70,
   "metadata": {},
   "outputs": [
    {
     "name": "stdout",
     "output_type": "stream",
     "text": [
      "14882047\n"
     ]
    }
   ],
   "source": [
    "# 전국 대상 가구수의 합\n",
    "print(np.sum(data[:,1]))"
   ]
  },
  {
   "cell_type": "code",
   "execution_count": 73,
   "metadata": {},
   "outputs": [
    {
     "name": "stdout",
     "output_type": "stream",
     "text": [
      "335.18\n"
     ]
    }
   ],
   "source": [
    "# 가구당 평균 전력 사용량의 전국 평균값\n",
    "print(round(data[:,2].mean(),2))     # data[:,2].mean()"
   ]
  },
  {
   "cell_type": "code",
   "execution_count": 79,
   "metadata": {},
   "outputs": [
    {
     "name": "stdout",
     "output_type": "stream",
     "text": [
      "가구당 평균 전력 사용량의 전국 평균값: 335.18\n"
     ]
    }
   ],
   "source": [
    "# 무식하게 평균 구하기\n",
    "e_sum = np.sum(data[:,2])\n",
    "e_sum\n",
    "\n",
    "n_rows = data.shape[0]\n",
    "n_rows\n",
    "\n",
    "print('가구당 평균 전력 사용량의 전국 평균값:', round(e_sum / n_rows, 2))"
   ]
  },
  {
   "cell_type": "code",
   "execution_count": 80,
   "metadata": {},
   "outputs": [
    {
     "name": "stdout",
     "output_type": "stream",
     "text": [
      "[[      2 2827233]\n",
      " [      5  380425]\n",
      " [      6  668623]\n",
      " [      7  425659]\n",
      " [      8  947300]\n",
      " [      9 2737725]\n",
      " [     10   49394]\n",
      " [     11  323151]\n",
      " [     12  734723]]\n"
     ]
    }
   ],
   "source": [
    "# 가구당 평균 전력 사용량이 평균 이상인 지역과 대상 가구수 추출\n",
    "avg_ = data[:, 2].mean()   # 가구당 평균 전력 사용량의 전국 평균\n",
    "print(data[data[:,2] > avg_, 0:2])   # 0은 생략가능"
   ]
  },
  {
   "cell_type": "code",
   "execution_count": 135,
   "metadata": {},
   "outputs": [
    {
     "name": "stdout",
     "output_type": "stream",
     "text": [
      "[[2014.   218.     4.8]\n",
      " [2014.   872.    19. ]\n",
      " [2014.   401.     8.7]]\n"
     ]
    }
   ],
   "source": [
    "# 문제1 #  상위3개의 (발생년도,발생건수,구성비)의 데이터 추출\n",
    "data2 = np.loadtxt('C:/STUDY/data/ex2_전년대비_시도별_교통사망사고.csv', delimiter=',',\n",
    "                        dtype=float)\n",
    "print(data2[:3, [0,2,3]])"
   ]
  },
  {
   "cell_type": "code",
   "execution_count": 163,
   "metadata": {},
   "outputs": [
    {
     "name": "stdout",
     "output_type": "stream",
     "text": [
      "[2014.     8.   163.     3.6  -47.   -22.4]\n",
      "[[2014    8  163    3  -47  -22]]\n"
     ]
    }
   ],
   "source": [
    "# 문제2 #  부산에서 발생한 교통사망사고 모든 현황 추출\n",
    "print(data2[7,:])\n",
    "  # 부산이 무슨 인덱스인지모를때\n",
    "print(data[data[:,1] == 8])"
   ]
  },
  {
   "cell_type": "code",
   "execution_count": 138,
   "metadata": {},
   "outputs": [
    {
     "name": "stdout",
     "output_type": "stream",
     "text": [
      "4583.0\n",
      "269.5882352941176\n",
      "269.59\n"
     ]
    }
   ],
   "source": [
    "# 문제3 # 전국 사고 발생건수의 합계와 전국 평균을 계산\n",
    "print(np.sum(data2[:,2]))   # = data[:,2].sum()\n",
    "print(data2[:,2].mean())\n",
    "print(round(data2[:,2].mean(),2)) # 소수점 2자리까지"
   ]
  },
  {
   "cell_type": "code",
   "execution_count": 172,
   "metadata": {},
   "outputs": [
    {
     "data": {
      "text/plain": [
       "array([2014. ,    6. ,  182. ,    4. ,   19. ,   11.7])"
      ]
     },
     "execution_count": 172,
     "metadata": {},
     "output_type": "execute_result"
    }
   ],
   "source": [
    "# 문제4 # 교통사고 증감수가 가장 큰 지역의 모든 현황 추출\n",
    "np.max(data2[:,4])\n",
    "\n",
    "## 답\n",
    "max(data2[:, 4])\n",
    "data2[data2[:, 4] == max(data2[:,4])]\n",
    "## 인덱싱\n",
    "np.argmax(data2[:,4])\n",
    "data2[np.argmax(data2[:,4])]"
   ]
  },
  {
   "cell_type": "code",
   "execution_count": 173,
   "metadata": {},
   "outputs": [
    {
     "data": {
      "text/plain": [
       "array([2014. ,    8. ,  163. ,    3.6,  -47. ,  -22.4])"
      ]
     },
     "execution_count": 173,
     "metadata": {},
     "output_type": "execute_result"
    }
   ],
   "source": [
    "# 문제5 # 교통사고 증감률이 가장 작은 지역의 모든현황 추출\n",
    "\n",
    "## 답\n",
    "min(data2[:, 5])\n",
    "data2[data2[:, 5] == min(data2[:,5])]\n",
    "## 인덱싱\n",
    "np.argmin(data2[:,5])\n",
    "data2[np.argmin(data2[:,4])]"
   ]
  },
  {
   "cell_type": "code",
   "execution_count": 174,
   "metadata": {},
   "outputs": [
    {
     "name": "stdout",
     "output_type": "stream",
     "text": [
      "[[  2.  872.  -45.   -4.9]\n",
      " [  3.  401.  -45.  -10.1]\n",
      " [  4.  464.  -41.   -8.1]\n",
      " [ 13.  400.  -35.   -8. ]]\n"
     ]
    }
   ],
   "source": [
    "# 문제6 # 사고 발생 건수가 400건 이상인 곳의 지역과 교통사고 발생건수, 증감수, 증감률을 추출\n",
    "p = data2[data2[:,2] >= 400]\n",
    "print(p[:, [1,2,4,5]])\n",
    "\n",
    "##\n",
    "# print(data[data[:,2] >= 400][:,[1,2,4,5]])"
   ]
  }
 ],
 "metadata": {
  "interpreter": {
   "hash": "38ae1ba9371524da054e8e3fbefd778d16b5a8ac7937a3f395010f627bb73919"
  },
  "kernelspec": {
   "display_name": "Python 3.9.12 64-bit",
   "language": "python",
   "name": "python3"
  },
  "language_info": {
   "codemirror_mode": {
    "name": "ipython",
    "version": 3
   },
   "file_extension": ".py",
   "mimetype": "text/x-python",
   "name": "python",
   "nbconvert_exporter": "python",
   "pygments_lexer": "ipython3",
   "version": "3.9.12"
  },
  "orig_nbformat": 4
 },
 "nbformat": 4,
 "nbformat_minor": 2
}
