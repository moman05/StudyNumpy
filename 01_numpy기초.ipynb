{
 "cells": [
  {
   "cell_type": "code",
   "execution_count": 2,
   "metadata": {},
   "outputs": [],
   "source": [
    "import numpy as np"
   ]
  },
  {
   "cell_type": "code",
   "execution_count": 4,
   "metadata": {},
   "outputs": [
    {
     "data": {
      "text/plain": [
       "array(1)"
      ]
     },
     "execution_count": 4,
     "metadata": {},
     "output_type": "execute_result"
    }
   ],
   "source": [
    "a = np.array(1)\n",
    "a"
   ]
  },
  {
   "cell_type": "code",
   "execution_count": 6,
   "metadata": {},
   "outputs": [
    {
     "name": "stdout",
     "output_type": "stream",
     "text": [
      "[1 2 3]\n"
     ]
    }
   ],
   "source": [
    "ndarr_1 = np.array([1,2,3])\n",
    "print(ndarr_1)"
   ]
  },
  {
   "cell_type": "code",
   "execution_count": 8,
   "metadata": {},
   "outputs": [
    {
     "name": "stdout",
     "output_type": "stream",
     "text": [
      "[1. 2. 3.]\n"
     ]
    }
   ],
   "source": [
    "ndarr_2 = np.array([1,2.0,3])\n",
    "print(ndarr_2)"
   ]
  },
  {
   "cell_type": "code",
   "execution_count": 9,
   "metadata": {},
   "outputs": [
    {
     "name": "stdout",
     "output_type": "stream",
     "text": [
      "['1' '2.0' '3']\n"
     ]
    }
   ],
   "source": [
    "ndarr_3 = np.array([1,2.0,'3'])\n",
    "print(ndarr_3)"
   ]
  },
  {
   "cell_type": "code",
   "execution_count": 11,
   "metadata": {},
   "outputs": [
    {
     "name": "stdout",
     "output_type": "stream",
     "text": [
      "int32\n",
      "float64\n",
      "<U32\n"
     ]
    }
   ],
   "source": [
    "print(ndarr_1.dtype)\n",
    "print(ndarr_2.dtype)\n",
    "print(ndarr_3.dtype)"
   ]
  },
  {
   "cell_type": "code",
   "execution_count": 13,
   "metadata": {},
   "outputs": [
    {
     "name": "stdout",
     "output_type": "stream",
     "text": [
      "complex128\n",
      "object\n"
     ]
    }
   ],
   "source": [
    "print(np.array(1+2j).dtype)\n",
    "print(np.array(print).dtype)"
   ]
  },
  {
   "cell_type": "markdown",
   "metadata": {},
   "source": [
    "##### dtype 속성을 사용하여 자료형 지정"
   ]
  },
  {
   "cell_type": "code",
   "execution_count": 15,
   "metadata": {},
   "outputs": [
    {
     "name": "stdout",
     "output_type": "stream",
     "text": [
      "int8\n"
     ]
    }
   ],
   "source": [
    "dtype1 = np.array([1,2,3], dtype=np.int8)\n",
    "print(dtype1.dtype)"
   ]
  },
  {
   "cell_type": "code",
   "execution_count": 17,
   "metadata": {},
   "outputs": [
    {
     "name": "stdout",
     "output_type": "stream",
     "text": [
      "float64\n"
     ]
    }
   ],
   "source": [
    "dtype2 = np.array([1,2,3], dtype=float)\n",
    "print(dtype2.dtype)"
   ]
  },
  {
   "cell_type": "code",
   "execution_count": 18,
   "metadata": {},
   "outputs": [
    {
     "name": "stdout",
     "output_type": "stream",
     "text": [
      "<U1\n"
     ]
    }
   ],
   "source": [
    "dtype3 = np.array([1,2,3], dtype=str)\n",
    "print(dtype3.dtype)"
   ]
  },
  {
   "cell_type": "code",
   "execution_count": 21,
   "metadata": {},
   "outputs": [
    {
     "name": "stdout",
     "output_type": "stream",
     "text": [
      "[1 2 3]\n",
      "int32\n"
     ]
    }
   ],
   "source": [
    "dtype4 = np.array([1,2.1,'3'], dtype=int)\n",
    "print(dtype4)\n",
    "print(dtype4.dtype)"
   ]
  },
  {
   "cell_type": "code",
   "execution_count": 22,
   "metadata": {},
   "outputs": [
    {
     "ename": "ValueError",
     "evalue": "could not convert string to float: 'data'",
     "output_type": "error",
     "traceback": [
      "\u001b[1;31m---------------------------------------------------------------------------\u001b[0m",
      "\u001b[1;31mValueError\u001b[0m                                Traceback (most recent call last)",
      "\u001b[1;32mc:\\STUDY\\Numpy\\01_numpy기초.ipynb Cell 13'\u001b[0m in \u001b[0;36m<cell line: 1>\u001b[1;34m()\u001b[0m\n\u001b[1;32m----> <a href='vscode-notebook-cell:/c%3A/STUDY/Numpy/01_numpy%EA%B8%B0%EC%B4%88.ipynb#ch0000012?line=0'>1</a>\u001b[0m dtype5 \u001b[39m=\u001b[39m np\u001b[39m.\u001b[39;49marray([\u001b[39m1\u001b[39;49m,\u001b[39m'\u001b[39;49m\u001b[39mdata\u001b[39;49m\u001b[39m'\u001b[39;49m,\u001b[39mprint\u001b[39;49m], dtype\u001b[39m=\u001b[39;49m\u001b[39mfloat\u001b[39;49m)\n\u001b[0;32m      <a href='vscode-notebook-cell:/c%3A/STUDY/Numpy/01_numpy%EA%B8%B0%EC%B4%88.ipynb#ch0000012?line=1'>2</a>\u001b[0m \u001b[39mprint\u001b[39m(dtype5\u001b[39m.\u001b[39mdtype)\n",
      "\u001b[1;31mValueError\u001b[0m: could not convert string to float: 'data'"
     ]
    }
   ],
   "source": [
    "# 오류나는거 맞음 'data'는 못바꾼다\n",
    "dtype5 = np.array([1,'data',print], dtype=float)\n",
    "print(dtype5.dtype)"
   ]
  },
  {
   "cell_type": "code",
   "execution_count": 25,
   "metadata": {},
   "outputs": [
    {
     "name": "stdout",
     "output_type": "stream",
     "text": [
      "(3,)\n"
     ]
    }
   ],
   "source": [
    "# 배열크기 확인\n",
    "print(ndarr_1.shape)"
   ]
  },
  {
   "cell_type": "code",
   "execution_count": 26,
   "metadata": {},
   "outputs": [
    {
     "name": "stdout",
     "output_type": "stream",
     "text": [
      "1\n"
     ]
    }
   ],
   "source": [
    "# 배열차원 확인\n",
    "print(ndarr_1.ndim)"
   ]
  },
  {
   "cell_type": "markdown",
   "metadata": {},
   "source": [
    "#### N차원 배열\n",
    "- Scalar: 숫자\n",
    "- Vector: scalar의 배열, 1차원 배열\n",
    "- Matrix: vector의 배열, 2차원 배열\n",
    "- Tensor: matrix의 배열, 3차원 배열이상"
   ]
  },
  {
   "cell_type": "code",
   "execution_count": 27,
   "metadata": {},
   "outputs": [
    {
     "name": "stdout",
     "output_type": "stream",
     "text": [
      "[1 2 3]\n",
      "(3,)\n",
      "1\n",
      "int32\n"
     ]
    }
   ],
   "source": [
    "# 1차원 배열 생성\n",
    "vector = np.array([1,2,3])\n",
    "print(vector)\n",
    "print(vector.shape)\n",
    "print(vector.ndim)\n",
    "print(vector.dtype)"
   ]
  },
  {
   "cell_type": "code",
   "execution_count": 29,
   "metadata": {},
   "outputs": [
    {
     "name": "stdout",
     "output_type": "stream",
     "text": [
      "[[1 2 3]\n",
      " [4 5 6]]\n",
      "(2, 3)\n",
      "2\n",
      "int32\n"
     ]
    }
   ],
   "source": [
    "# 2차원 배열 생성\n",
    "matrix = np.array([[1,2,3],[4,5,6]])\n",
    "print(matrix)\n",
    "print(matrix.shape)\n",
    "print(matrix.ndim)\n",
    "print(matrix.dtype)"
   ]
  },
  {
   "cell_type": "code",
   "execution_count": 30,
   "metadata": {},
   "outputs": [
    {
     "name": "stdout",
     "output_type": "stream",
     "text": [
      "[[[ 1  2  3]\n",
      "  [ 4  5  6]]\n",
      "\n",
      " [[ 7  8  9]\n",
      "  [10 11 12]]]\n",
      "(2, 2, 3)\n",
      "3\n",
      "int32\n"
     ]
    }
   ],
   "source": [
    "# 3차원 배열 생성\n",
    "tensor = np.array([[[1,2,3],[4,5,6]],[[7,8,9],[10,11,12]]])\n",
    "print(tensor)\n",
    "print(tensor.shape)\n",
    "print(tensor.ndim)\n",
    "print(tensor.dtype)"
   ]
  },
  {
   "cell_type": "markdown",
   "metadata": {},
   "source": [
    "#### 배열의 정보확인"
   ]
  },
  {
   "cell_type": "code",
   "execution_count": 31,
   "metadata": {},
   "outputs": [
    {
     "name": "stdout",
     "output_type": "stream",
     "text": [
      "3\n",
      "6\n",
      "12\n"
     ]
    }
   ],
   "source": [
    "# 배열 요소의 개수 확인\n",
    "print(vector.size)\n",
    "print(matrix.size)\n",
    "print(tensor.size)"
   ]
  },
  {
   "cell_type": "code",
   "execution_count": 39,
   "metadata": {},
   "outputs": [
    {
     "name": "stdout",
     "output_type": "stream",
     "text": [
      "[[1 2 3]\n",
      " [2 4 6]\n",
      " [3 6 9]]\n",
      "2\n",
      "9\n",
      "(3, 3)\n"
     ]
    }
   ],
   "source": [
    "# 연습문제\n",
    "d = np.array([[1,2,3],[2,4,6],[3,6,9]])\n",
    "print(d)\n",
    "print(d.ndim)\n",
    "print(d.size)\n",
    "print(d.shape)"
   ]
  },
  {
   "cell_type": "markdown",
   "metadata": {},
   "source": [
    "#### 자료형 변환(리스트)"
   ]
  },
  {
   "cell_type": "code",
   "execution_count": 45,
   "metadata": {},
   "outputs": [
    {
     "name": "stdout",
     "output_type": "stream",
     "text": [
      "[1 2 3] <class 'numpy.ndarray'>\n"
     ]
    }
   ],
   "source": [
    "# 리스트에서 ndarray 변환\n",
    "list1 = [1,2,3]\n",
    "arr1 = np.array(list1)\n",
    "print(arr1, type(arr1))"
   ]
  },
  {
   "cell_type": "code",
   "execution_count": 46,
   "metadata": {},
   "outputs": [
    {
     "name": "stdout",
     "output_type": "stream",
     "text": [
      "[1, 2, 3] <class 'list'>\n"
     ]
    }
   ],
   "source": [
    "# ndarray에서 리스트로 변환\n",
    "arr2 = np.array([1,2,3])\n",
    "list2 = list(arr2)\n",
    "print(list2, type(list2))"
   ]
  },
  {
   "cell_type": "code",
   "execution_count": 47,
   "metadata": {},
   "outputs": [
    {
     "name": "stdout",
     "output_type": "stream",
     "text": [
      "[[1 2 3]\n",
      " [4 5 6]]\n"
     ]
    }
   ],
   "source": [
    "# 2차원 리스트 변환\n",
    "list3 = [[1,2,3],[4,5,6]]\n",
    "arr3 = np.array(list3)\n",
    "print(arr3)"
   ]
  },
  {
   "cell_type": "code",
   "execution_count": 50,
   "metadata": {},
   "outputs": [
    {
     "name": "stdout",
     "output_type": "stream",
     "text": [
      "[list([1, 2, 3, 4]) list([5, 6, 7])]\n",
      "2 (2,) 1\n"
     ]
    },
    {
     "name": "stderr",
     "output_type": "stream",
     "text": [
      "C:\\Users\\admin\\AppData\\Local\\Temp\\ipykernel_3024\\2166626075.py:3: VisibleDeprecationWarning: Creating an ndarray from ragged nested sequences (which is a list-or-tuple of lists-or-tuples-or ndarrays with different lengths or shapes) is deprecated. If you meant to do this, you must specify 'dtype=object' when creating the ndarray.\n",
      "  arr4 = np.array(list4)\n"
     ]
    }
   ],
   "source": [
    "# 주의해야할 점 - list의 shape 다른 경우\n",
    "list4 = [[1,2,3,4],[5,6,7]]\n",
    "arr4 = np.array(list4)\n",
    "print(arr4)\n",
    "print(arr4.size, arr4.shape, arr4.ndim)"
   ]
  },
  {
   "cell_type": "markdown",
   "metadata": {},
   "source": [
    "#### 자료형 변환(튜플) - 리스트와 동일"
   ]
  },
  {
   "cell_type": "code",
   "execution_count": 52,
   "metadata": {},
   "outputs": [
    {
     "name": "stdout",
     "output_type": "stream",
     "text": [
      "[1 2 3]\n"
     ]
    }
   ],
   "source": [
    "# 튜플 -> ndarray 변환\n",
    "tuple1 = (1,2,3)\n",
    "arr = np.array(tuple1)\n",
    "print(arr)"
   ]
  },
  {
   "cell_type": "code",
   "execution_count": 53,
   "metadata": {},
   "outputs": [
    {
     "name": "stdout",
     "output_type": "stream",
     "text": [
      "(1, 2, 3)\n"
     ]
    }
   ],
   "source": [
    "# ndarray -> 튜플 변환\n",
    "arr2 = np.array([1,2,3])\n",
    "tuple2 = tuple(arr2)\n",
    "print(tuple2)"
   ]
  },
  {
   "cell_type": "markdown",
   "metadata": {},
   "source": [
    "#### 자료형 변환(세트, 딕셔너리)"
   ]
  },
  {
   "cell_type": "code",
   "execution_count": 57,
   "metadata": {},
   "outputs": [
    {
     "name": "stdout",
     "output_type": "stream",
     "text": [
      "{1, 2, 3} 1 ()\n"
     ]
    }
   ],
   "source": [
    "# 세트변환\n",
    "set1 = {1,2,3}\n",
    "arr = np.array(set1)\n",
    "print(arr, arr.size, arr.shape)"
   ]
  },
  {
   "cell_type": "code",
   "execution_count": 56,
   "metadata": {},
   "outputs": [
    {
     "name": "stdout",
     "output_type": "stream",
     "text": [
      "1\n"
     ]
    }
   ],
   "source": [
    "print(arr.size)"
   ]
  },
  {
   "cell_type": "code",
   "execution_count": 59,
   "metadata": {},
   "outputs": [
    {
     "name": "stdout",
     "output_type": "stream",
     "text": [
      "{'a': 1, 'b': 2, 'c': 3}\n"
     ]
    }
   ],
   "source": [
    "# 딕셔너리 변환\n",
    "dict1 = {'a':1, 'b':2, 'c':3}\n",
    "arr = np.array(dict1)\n",
    "print(arr)"
   ]
  },
  {
   "cell_type": "code",
   "execution_count": 60,
   "metadata": {},
   "outputs": [
    {
     "name": "stdout",
     "output_type": "stream",
     "text": [
      "1\n"
     ]
    }
   ],
   "source": [
    "print(arr.size)"
   ]
  },
  {
   "cell_type": "markdown",
   "metadata": {},
   "source": [
    "#### 배열 인덱싱"
   ]
  },
  {
   "cell_type": "code",
   "execution_count": 62,
   "metadata": {},
   "outputs": [
    {
     "name": "stdout",
     "output_type": "stream",
     "text": [
      "1\n",
      "4\n",
      "7\n"
     ]
    }
   ],
   "source": [
    "# 리스트 인덱싱과 유사\n",
    "list_ = [[[1,2],[3,4]],[[5,6],[7,8]]]\n",
    " #1 가져오기\n",
    "print(list_[0][0][0])\n",
    " #4 가져오기\n",
    "print(list_[0][1][1])\n",
    " #7 가져오기\n",
    "print(list_[1][1][0])"
   ]
  },
  {
   "cell_type": "code",
   "execution_count": 64,
   "metadata": {},
   "outputs": [
    {
     "name": "stdout",
     "output_type": "stream",
     "text": [
      "1\n",
      "4\n",
      "7\n"
     ]
    }
   ],
   "source": [
    "# arr\n",
    "arr_ = np.array([[[1,2],[3,4]],[[5,6],[7,8]]])\n",
    " #1 가져오기\n",
    "print(arr_[0][0][0])\n",
    " #4 가져오기\n",
    "print(arr_[0][1][1])\n",
    " #7 가져오기\n",
    "print(arr_[1][1][0])"
   ]
  },
  {
   "cell_type": "code",
   "execution_count": 66,
   "metadata": {},
   "outputs": [
    {
     "name": "stdout",
     "output_type": "stream",
     "text": [
      "1\n",
      "4\n",
      "7\n"
     ]
    }
   ],
   "source": [
    "# ndarray의 인덱싱\n",
    "arr_ = np.array([[[1,2],[3,4]],[[5,6],[7,8]]])\n",
    " #1 가져오기\n",
    "print(arr_[0,0,0])\n",
    " #4 가져오기\n",
    "print(arr_[0,1,1])\n",
    " #7 가져오기\n",
    "print(arr_[1,1,0])"
   ]
  },
  {
   "cell_type": "code",
   "execution_count": 68,
   "metadata": {},
   "outputs": [
    {
     "name": "stdout",
     "output_type": "stream",
     "text": [
      "[[1 2]]\n",
      "[[1 2]\n",
      " [5 6]]\n",
      "[1 4 5]\n",
      "[2 2]\n"
     ]
    }
   ],
   "source": [
    "# ndarray의 인덱싱\n",
    "arr_1 = np.array([[1,2],[3,4],[5,6]])\n",
    " # 0행 가져와 2차원 배열 만들기\n",
    "print(arr_1[[0]])  \n",
    " # 0,2행 가져와 2차원 배열 만들기\n",
    "print(arr_1[[0,2]])  ## print(arr_1[[0],:])\n",
    " # 다음 결과는?\n",
    "print(arr_1[[0,1,2],[0,1,0]])   # row1, col1=0,0 | row2, col2 =1,1 | row3, col3=2,0\n",
    " # 같은 위치 데이터 여러번 사용가능\n",
    "print(arr_1[[0,0],[1,1]])"
   ]
  },
  {
   "cell_type": "code",
   "execution_count": 70,
   "metadata": {},
   "outputs": [
    {
     "name": "stdout",
     "output_type": "stream",
     "text": [
      "[ 1  6  7 11]\n"
     ]
    }
   ],
   "source": [
    "# 배열 인덱싱\n",
    "arr_2 = np.array([[1,2,3],\n",
    "                  [4,5,6],\n",
    "                  [7,8,9],\n",
    "                  [10,11,12]])\n",
    "# 두개의 1차원배열만들기\n",
    "b = np.array([0,1,2,3])\n",
    "c = np.array([0,2,0,1])\n",
    "# 다음 코드의 실행 결과는?\n",
    "print(arr_2[b,c]) "
   ]
  },
  {
   "cell_type": "code",
   "execution_count": 74,
   "metadata": {},
   "outputs": [
    {
     "data": {
      "text/plain": [
       "array([3])"
      ]
     },
     "execution_count": 74,
     "metadata": {},
     "output_type": "execute_result"
    }
   ],
   "source": [
    "# Boolean 인덱싱\n",
    "#기본데이터\n",
    "arr = np.array([1,2,3,4,5])"
   ]
  },
  {
   "cell_type": "code",
   "execution_count": 72,
   "metadata": {},
   "outputs": [
    {
     "name": "stdout",
     "output_type": "stream",
     "text": [
      "[1 3 4]\n"
     ]
    }
   ],
   "source": [
    "# True, False\n",
    "print(arr[[True,False,True,True,False]])"
   ]
  },
  {
   "cell_type": "code",
   "execution_count": 73,
   "metadata": {},
   "outputs": [
    {
     "name": "stdout",
     "output_type": "stream",
     "text": [
      "[3 4 5]\n"
     ]
    }
   ],
   "source": [
    "print(arr[arr >= 3])"
   ]
  },
  {
   "cell_type": "code",
   "execution_count": 82,
   "metadata": {},
   "outputs": [
    {
     "name": "stdout",
     "output_type": "stream",
     "text": [
      "[91 93]\n",
      "[96 91]\n"
     ]
    }
   ],
   "source": [
    "# 배열 인덱싱 문제\n",
    "score = np.array([[78,91,84,89,93,65],[82,87,96,79,91,73]])\n",
    "\n",
    "print(score[0][score[0] >= 90])\n",
    "print(score[1][score[1] >= 90])\n"
   ]
  },
  {
   "cell_type": "markdown",
   "metadata": {},
   "source": [
    "###### 2022-05-25"
   ]
  },
  {
   "cell_type": "markdown",
   "metadata": {},
   "source": [
    "#### 배열 슬라이싱\n",
    " > ndarray의 슬라이싱\n",
    "  - 행과 열 부분을 나눠서 슬라이싱 가능\n",
    "  - 다차원 배열의 부분 데이터를 추출할 때유용"
   ]
  },
  {
   "cell_type": "code",
   "execution_count": 14,
   "metadata": {},
   "outputs": [
    {
     "data": {
      "text/plain": [
       "array([[ 1,  2,  3,  4,  5],\n",
       "       [ 6,  7,  8,  9, 10],\n",
       "       [11, 12, 13, 14, 15],\n",
       "       [16, 17, 18, 19, 20]])"
      ]
     },
     "execution_count": 14,
     "metadata": {},
     "output_type": "execute_result"
    }
   ],
   "source": [
    "# 기본 데이터 4 x 5 형태의 2차원배열\n",
    "matrix = np.array([[1,2,3,4,5],\n",
    "                   [6,7,8,9,10],\n",
    "                   [11,12,13,14,15],\n",
    "                   [16,17,18,19,20]])\n",
    "\n",
    "matrix"
   ]
  },
  {
   "cell_type": "code",
   "execution_count": 5,
   "metadata": {},
   "outputs": [
    {
     "name": "stdout",
     "output_type": "stream",
     "text": [
      "[ 1  6 11 16] \n",
      "\n",
      "[[ 1]\n",
      " [ 6]\n",
      " [11]\n",
      " [16]]\n"
     ]
    }
   ],
   "source": [
    "# 0열 전체 슬라이싱\n",
    "print(matrix[:,0], '\\n')\n",
    "# 0열 전체 슬라이싱 (2차원 유지)\n",
    "print(matrix[:,:1])"
   ]
  },
  {
   "cell_type": "code",
   "execution_count": 9,
   "metadata": {},
   "outputs": [
    {
     "name": "stdout",
     "output_type": "stream",
     "text": [
      "[ 6  7  8  9 10]\n",
      "[ 6  7  8  9 10]\n",
      "[[ 6  7  8  9 10]]\n"
     ]
    }
   ],
   "source": [
    "# 1행 전체 슬라이싱\n",
    "print(matrix[1,:])\n",
    "# 1행 전체 슬라이싱\n",
    "print(matrix[1])  # rank > row > col 순으로 :(콜론) 생략 가능\n",
    "# 1행 전체 슬라이싱(2차원 유지)\n",
    "print(matrix[1:2,:])  # or print(matrix[[1]])"
   ]
  },
  {
   "cell_type": "code",
   "execution_count": 19,
   "metadata": {},
   "outputs": [
    {
     "name": "stdout",
     "output_type": "stream",
     "text": [
      "[[ 4  5]\n",
      " [ 9 10]\n",
      " [14 15]\n",
      " [19 20]] \n",
      "\n",
      "[2 3 4]\n"
     ]
    }
   ],
   "source": [
    "# 3~4열 전체 슬라이싱\n",
    "print(matrix[:,3:], '\\n')\n",
    "# 0행, 1~3열 슬라이싱\n",
    "print(matrix[0,1:-1])     # == [0, 1:4]"
   ]
  },
  {
   "cell_type": "markdown",
   "metadata": {},
   "source": [
    "#### 배열 인덱싱, 슬라이싱 복합"
   ]
  },
  {
   "cell_type": "code",
   "execution_count": 20,
   "metadata": {},
   "outputs": [
    {
     "name": "stdout",
     "output_type": "stream",
     "text": [
      "[[13 14 15]\n",
      " [18 19 20]]\n",
      "[[ 7  8]\n",
      " [12 13]]\n"
     ]
    }
   ],
   "source": [
    "# 2~3행, 2~4열 슬라이싱\n",
    "print(matrix[-2:,-3:])\n",
    "# 1~2행, 1~2열 슬라이싱\n",
    "print(matrix[1:-1,1:3])"
   ]
  },
  {
   "cell_type": "code",
   "execution_count": 23,
   "metadata": {},
   "outputs": [
    {
     "data": {
      "text/plain": [
       "array([[ 1,  2,  3,  4,  5],\n",
       "       [ 6,  7,  8,  9, 10],\n",
       "       [11, 12, 13, 14, 15],\n",
       "       [16, 17, 18, 19, 20]])"
      ]
     },
     "execution_count": 23,
     "metadata": {},
     "output_type": "execute_result"
    }
   ],
   "source": [
    "matrix"
   ]
  },
  {
   "cell_type": "code",
   "execution_count": 64,
   "metadata": {},
   "outputs": [
    {
     "name": "stdout",
     "output_type": "stream",
     "text": [
      "[[ 8  9 10]\n",
      " [18 19 20]]\n",
      "[[ 7  9]\n",
      " [12 14]]\n"
     ]
    }
   ],
   "source": [
    "# 1, 3행, 2~4열 슬라이싱\n",
    "print(matrix[[1,3],2:])\n",
    "# 1~2행, 1,3열 슬라이싱\n",
    "print(matrix[1:-1,[1,3]])"
   ]
  },
  {
   "cell_type": "code",
   "execution_count": 49,
   "metadata": {},
   "outputs": [
    {
     "name": "stdout",
     "output_type": "stream",
     "text": [
      "[10  2  6]\n"
     ]
    }
   ],
   "source": [
    "# 문제3 # 10,2,6 추출\n",
    "tensor = np.array([[[1,2,3],\n",
    "                    [4,5,6]],\n",
    "                   [[7,8,9],\n",
    "                    [10,11,12]]])\n",
    "\n",
    "print(tensor[[1,0,0],[1,0,1],[0,1,2]])"
   ]
  },
  {
   "cell_type": "code",
   "execution_count": 57,
   "metadata": {},
   "outputs": [
    {
     "name": "stdout",
     "output_type": "stream",
     "text": [
      "[[1 2]\n",
      " [4 5]]\n",
      "[ 9 12]\n"
     ]
    }
   ],
   "source": [
    "# 문제4 # [[1 2][4 5]] 배열과 [9 12]배열 추출\n",
    "print(tensor[0, :, :2])\n",
    "print(tensor[1, :, 2])"
   ]
  }
 ],
 "metadata": {
  "interpreter": {
   "hash": "38ae1ba9371524da054e8e3fbefd778d16b5a8ac7937a3f395010f627bb73919"
  },
  "kernelspec": {
   "display_name": "Python 3.9.12 64-bit",
   "language": "python",
   "name": "python3"
  },
  "language_info": {
   "codemirror_mode": {
    "name": "ipython",
    "version": 3
   },
   "file_extension": ".py",
   "mimetype": "text/x-python",
   "name": "python",
   "nbconvert_exporter": "python",
   "pygments_lexer": "ipython3",
   "version": "3.9.12"
  },
  "orig_nbformat": 4
 },
 "nbformat": 4,
 "nbformat_minor": 2
}
