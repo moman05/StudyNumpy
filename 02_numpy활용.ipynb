{
 "cells": [
  {
   "cell_type": "markdown",
   "metadata": {},
   "source": [
    "#### Reshape\n",
    " - 배열의 shape을 변형해주는 함수\n",
    " - 배열의 요소 개수를 유지하며 형태만 변경\n",
    " - 변형 전 size와 변형 후 size가 동일해야 함"
   ]
  },
  {
   "cell_type": "code",
   "execution_count": 363,
   "metadata": {},
   "outputs": [],
   "source": [
    "import numpy as np"
   ]
  },
  {
   "cell_type": "code",
   "execution_count": 364,
   "metadata": {},
   "outputs": [
    {
     "name": "stdout",
     "output_type": "stream",
     "text": [
      "[[1 2]\n",
      " [3 4]\n",
      " [5 6]]\n"
     ]
    }
   ],
   "source": [
    "# array.reshape(size)\n",
    "arr = np.array([[1,2,3],[4,5,6]])  # 2X3 형태의 2차원 배열\n",
    "print(arr.reshape(3,2))  # 3X2 형태의 배열로 변형"
   ]
  },
  {
   "cell_type": "code",
   "execution_count": 365,
   "metadata": {},
   "outputs": [
    {
     "name": "stdout",
     "output_type": "stream",
     "text": [
      "[[1]\n",
      " [2]\n",
      " [3]\n",
      " [4]\n",
      " [5]\n",
      " [6]]\n"
     ]
    }
   ],
   "source": [
    "# 6x1 배열로\n",
    "print(arr.reshape(6,1))"
   ]
  },
  {
   "cell_type": "code",
   "execution_count": 366,
   "metadata": {},
   "outputs": [
    {
     "name": "stdout",
     "output_type": "stream",
     "text": [
      "[[1 2 3 4 5 6]]\n"
     ]
    }
   ],
   "source": [
    "# 1x6 배열로\n",
    "print(arr.reshape(1,6))"
   ]
  },
  {
   "cell_type": "code",
   "execution_count": 367,
   "metadata": {},
   "outputs": [
    {
     "name": "stdout",
     "output_type": "stream",
     "text": [
      "[[[1 2]]\n",
      "\n",
      " [[3 4]]\n",
      "\n",
      " [[5 6]]]\n"
     ]
    }
   ],
   "source": [
    "# 3x1x2 배열로 변형\n",
    "print(arr.reshape(3,1,2))"
   ]
  },
  {
   "cell_type": "code",
   "execution_count": 368,
   "metadata": {},
   "outputs": [
    {
     "name": "stdout",
     "output_type": "stream",
     "text": [
      "[[1 2]\n",
      " [3 4]\n",
      " [5 6]]\n",
      "[[1 2 3]\n",
      " [4 5 6]]\n"
     ]
    }
   ],
   "source": [
    "# ?x2배열로 변형\n",
    "print(arr.reshape(-1,2))\n",
    "# 2x?배열로 변형\n",
    "print(arr.reshape(2,-1))"
   ]
  },
  {
   "cell_type": "code",
   "execution_count": 369,
   "metadata": {},
   "outputs": [
    {
     "name": "stdout",
     "output_type": "stream",
     "text": [
      "[1 2 3 4 5 6]\n"
     ]
    }
   ],
   "source": [
    "# 차원 줄이고싶으면 ,(컴마) 줄이면 됨\n",
    "# 반대로 늘리고 싶으면 , 늘리기\n",
    "print(arr.reshape(6))"
   ]
  },
  {
   "cell_type": "code",
   "execution_count": 370,
   "metadata": {},
   "outputs": [
    {
     "name": "stdout",
     "output_type": "stream",
     "text": [
      "[[[ 1  2  3  4]\n",
      "  [ 5  6  7  8]\n",
      "  [ 9 10 11 12]]\n",
      "\n",
      " [[13 14 15 16]\n",
      "  [17 18 19 20]\n",
      "  [21 22 23 24]]\n",
      "\n",
      " [[25 26 27 28]\n",
      "  [29 30 31 32]\n",
      "  [33 34 35 36]]]\n"
     ]
    }
   ],
   "source": [
    "# 문제1 # 배열 만들고 (3,3,4) 형태의 3차원배열\n",
    "tensor = np.array(range(1,37))\n",
    "print(tensor.reshape(3,3,4))"
   ]
  },
  {
   "cell_type": "code",
   "execution_count": 371,
   "metadata": {},
   "outputs": [
    {
     "data": {
      "text/plain": [
       "array([[ 1,  2,  3,  4,  5,  6,  7,  8,  9],\n",
       "       [10, 11, 12, 13, 14, 15, 16, 17, 18],\n",
       "       [19, 20, 21, 22, 23, 24, 25, 26, 27],\n",
       "       [28, 29, 30, 31, 32, 33, 34, 35, 36]])"
      ]
     },
     "execution_count": 371,
     "metadata": {},
     "output_type": "execute_result"
    }
   ],
   "source": [
    "# 문제 2 # tensor 배열을 2차원 배열로 변형, 열의개수는 9\n",
    "tensor.reshape(-1,9)"
   ]
  },
  {
   "cell_type": "markdown",
   "metadata": {},
   "source": [
    "#### Flatten\n",
    " - 다차원 배열을 1차원 배열로 변형"
   ]
  },
  {
   "cell_type": "code",
   "execution_count": 372,
   "metadata": {},
   "outputs": [
    {
     "name": "stdout",
     "output_type": "stream",
     "text": [
      "[ 1  2  3  4  5  6  7  8  9 10 11 12 13 14 15 16 17 18 19 20 21 22 23 24\n",
      " 25 26 27 28 29 30 31 32 33 34 35 36]\n"
     ]
    }
   ],
   "source": [
    "# 문제3번 tensor를 바꾼거\n",
    "print(tensor.reshape(3,3,4).flatten())"
   ]
  },
  {
   "cell_type": "code",
   "execution_count": 373,
   "metadata": {},
   "outputs": [
    {
     "name": "stdout",
     "output_type": "stream",
     "text": [
      "[1 2 3 4 5 6]\n",
      "[1 2 3 4 5 6]\n",
      "[1 2 3 4 5 6]\n"
     ]
    }
   ],
   "source": [
    "# shape(2,3) -> shape(6,)\n",
    "print(arr.flatten())\n",
    "# shape(1,6) -> shape(6,)\n",
    "print(arr.reshape(1,6).flatten())\n",
    "# shape(3,1,2) -> shape(6,)\n",
    "print(arr.reshape(3,1,2).flatten())"
   ]
  },
  {
   "cell_type": "markdown",
   "metadata": {},
   "source": [
    "#### Arange \n",
    " - range 함수와 비슷한 기능\n",
    " - 값의 범위를 지정하여 값이 채워져 있는 배열을 생성\n",
    " - 특정한 규칙에 따라 증가하는 갑을 넣는 것도 가능"
   ]
  },
  {
   "cell_type": "code",
   "execution_count": 374,
   "metadata": {},
   "outputs": [
    {
     "name": "stdout",
     "output_type": "stream",
     "text": [
      "[ 0  1  2  3  4  5  6  7  8  9 10 11 12 13 14 15 16 17 18 19 20 21 22 23\n",
      " 24 25 26 27 28 29]\n"
     ]
    }
   ],
   "source": [
    "# np.arange(size)\n",
    "print(np.arange(30))   # == np.array(range(30))"
   ]
  },
  {
   "cell_type": "code",
   "execution_count": 375,
   "metadata": {},
   "outputs": [
    {
     "name": "stdout",
     "output_type": "stream",
     "text": [
      "[0 2 4 6 8]\n",
      "[0.  0.2 0.4 0.6 0.8 1.  1.2 1.4 1.6 1.8]\n",
      "[10  9  8  7  6  5  4  3  2  1]\n"
     ]
    }
   ],
   "source": [
    "# 간격 지정 : np.arange(strat, end, step)\n",
    "print(np.arange(0,10,2))\n",
    "print(np.arange(0,2,0.2))\n",
    "print(np.arange(10,0,-1))"
   ]
  },
  {
   "cell_type": "markdown",
   "metadata": {},
   "source": [
    "#### Arange + Reshape\n",
    " - 배열 요소를 순서대로 가지는 다차원 배열 생성 가능"
   ]
  },
  {
   "cell_type": "code",
   "execution_count": 376,
   "metadata": {},
   "outputs": [
    {
     "name": "stdout",
     "output_type": "stream",
     "text": [
      "[[ 1  2  3  4  5]\n",
      " [ 6  7  8  9 10]\n",
      " [11 12 13 14 15]\n",
      " [16 17 18 19 20]\n",
      " [21 22 23 24 25]] \n",
      "\n",
      "[[[0.  0.2 0.4 0.6 0.8]\n",
      "  [1.  1.2 1.4 1.6 1.8]]\n",
      "\n",
      " [[2.  2.2 2.4 2.6 2.8]\n",
      "  [3.  3.2 3.4 3.6 3.8]]\n",
      "\n",
      " [[4.  4.2 4.4 4.6 4.8]\n",
      "  [5.  5.2 5.4 5.6 5.8]]]\n"
     ]
    }
   ],
   "source": [
    "# arange + reshape\n",
    "print(np.arange(1,26).reshape(5,5),'\\n')\n",
    "print(np.arange(0,6,0.2).reshape(3,2,5))"
   ]
  },
  {
   "cell_type": "code",
   "execution_count": 377,
   "metadata": {},
   "outputs": [
    {
     "name": "stdout",
     "output_type": "stream",
     "text": [
      "[[100 110 120 130 140]\n",
      " [150 160 170 180 190]] \n",
      "\n",
      "[[-2.  -1.5 -1. ]\n",
      " [-0.5  0.   0.5]\n",
      " [ 1.   1.5  2. ]] \n",
      "\n",
      "[[[-2.  -1.5 -1. ]\n",
      "  [-0.5  0.   0.5]\n",
      "  [ 1.   1.5  2. ]]]\n"
     ]
    }
   ],
   "source": [
    "# 문제3 # 100~190까지 10간격의 배 열생성, (2,5)형태의 2차원 배열\n",
    "print(np.arange(100,200,10).reshape(2,5),'\\n')\n",
    "\n",
    "# 문제4 # -2부터 2까지 0.5간격의 배열 생성, 2차원배열 변형\n",
    "print(np.arange(-2, 2.1, 0.5).reshape(3,3), '\\n')\n",
    "\n",
    "# 문제4.1 # -2부터 2까지 0.5간격의 배열 생성, 3차원배열 변형\n",
    "print(np.arange(-2, 2.1, 0.5).reshape(1,3,3))"
   ]
  },
  {
   "cell_type": "markdown",
   "metadata": {},
   "source": [
    "#### Zeros\n",
    " - 0으로 채워진 배열 생성\n",
    " - shape 지정이 가능"
   ]
  },
  {
   "cell_type": "code",
   "execution_count": 378,
   "metadata": {},
   "outputs": [
    {
     "name": "stdout",
     "output_type": "stream",
     "text": [
      "[0 0 0 0 0]\n"
     ]
    }
   ],
   "source": [
    "# np.zeros(shape,dtype)\n",
    "print(np.zeros(shape=(5,), dtype=np.int8))"
   ]
  },
  {
   "cell_type": "code",
   "execution_count": 379,
   "metadata": {},
   "outputs": [
    {
     "name": "stdout",
     "output_type": "stream",
     "text": [
      "[0 0 0 0 0]\n"
     ]
    }
   ],
   "source": [
    "print(np.zeros((5), int))"
   ]
  },
  {
   "cell_type": "code",
   "execution_count": 380,
   "metadata": {},
   "outputs": [
    {
     "name": "stdout",
     "output_type": "stream",
     "text": [
      "[[0. 0. 0.]\n",
      " [0. 0. 0.]]\n"
     ]
    }
   ],
   "source": [
    "print(np.zeros((2,3)))"
   ]
  },
  {
   "cell_type": "markdown",
   "metadata": {},
   "source": [
    "#### Ones\n",
    " - 1으로 채워진 배열 생성\n",
    " - shape 지정이 가능"
   ]
  },
  {
   "cell_type": "code",
   "execution_count": 381,
   "metadata": {},
   "outputs": [
    {
     "name": "stdout",
     "output_type": "stream",
     "text": [
      "[1 1 1 1 1]\n"
     ]
    }
   ],
   "source": [
    "# np.ones(shape, dtype)\n",
    "print(np.ones(shape=(5,),dtype=np.int8))"
   ]
  },
  {
   "cell_type": "code",
   "execution_count": 382,
   "metadata": {},
   "outputs": [
    {
     "name": "stdout",
     "output_type": "stream",
     "text": [
      "[1 1 1 1 1]\n"
     ]
    }
   ],
   "source": [
    "print(np.ones((5),int))"
   ]
  },
  {
   "cell_type": "code",
   "execution_count": 383,
   "metadata": {},
   "outputs": [
    {
     "name": "stdout",
     "output_type": "stream",
     "text": [
      "[[1. 1. 1.]\n",
      " [1. 1. 1.]]\n"
     ]
    }
   ],
   "source": [
    "print(np.ones((2,3)))"
   ]
  },
  {
   "cell_type": "markdown",
   "metadata": {},
   "source": [
    "#### Empty\n",
    " - shape만 주어지고 비어있는 배열 생성\n",
    " - 배열을 생성만 하고 값을 주지않아 메모리에 저장되어 있던 기존 값이 저장될 수 있음\n",
    " - zeros랑 다르다"
   ]
  },
  {
   "cell_type": "code",
   "execution_count": 384,
   "metadata": {},
   "outputs": [
    {
     "name": "stdout",
     "output_type": "stream",
     "text": [
      "[100 110 120 130 140 150 160 170 180 190]\n"
     ]
    }
   ],
   "source": [
    "# np.empty(shape, dtype)\n",
    "print(np.empty(shape=(10,),dtype=np.int32))"
   ]
  },
  {
   "cell_type": "code",
   "execution_count": 385,
   "metadata": {},
   "outputs": [
    {
     "name": "stdout",
     "output_type": "stream",
     "text": [
      "[[0 1 1 1 1]\n",
      " [1 1 1 1 1]]\n"
     ]
    }
   ],
   "source": [
    "print(np.empty((2,5),np.int8))"
   ]
  },
  {
   "cell_type": "markdown",
   "metadata": {},
   "source": [
    "#### Zeros_like / Ones_like / Empty_like\n",
    " - 입력받은 배열과 같은 shape, dtype의 배열 생성"
   ]
  },
  {
   "cell_type": "code",
   "execution_count": 386,
   "metadata": {},
   "outputs": [
    {
     "name": "stdout",
     "output_type": "stream",
     "text": [
      "[[0 0 0 0 0 0]\n",
      " [0 0 0 0 0 0]\n",
      " [0 0 0 0 0 0]\n",
      " [0 0 0 0 0 0]]\n"
     ]
    }
   ],
   "source": [
    "# np.zeros_like(ndarray)\n",
    "matrix = np.arange(24).reshape(4,6)\n",
    "print(np.zeros_like(matrix))"
   ]
  },
  {
   "cell_type": "code",
   "execution_count": 387,
   "metadata": {},
   "outputs": [
    {
     "data": {
      "text/plain": [
       "array([[ 0,  1,  2,  3,  4,  5],\n",
       "       [ 6,  7,  8,  9, 10, 11],\n",
       "       [12, 13, 14, 15, 16, 17],\n",
       "       [18, 19, 20, 21, 22, 23]])"
      ]
     },
     "execution_count": 387,
     "metadata": {},
     "output_type": "execute_result"
    }
   ],
   "source": [
    "matrix"
   ]
  },
  {
   "cell_type": "code",
   "execution_count": 388,
   "metadata": {},
   "outputs": [
    {
     "name": "stdout",
     "output_type": "stream",
     "text": [
      "[[1. 1. 1. 1. 1. 1. 1. 1. 1. 1.]\n",
      " [1. 1. 1. 1. 1. 1. 1. 1. 1. 1.]]\n"
     ]
    }
   ],
   "source": [
    "matrix = np.arange(-2,2,0.2).reshape(2,10)\n",
    "print(np.ones_like(matrix))"
   ]
  },
  {
   "cell_type": "code",
   "execution_count": 389,
   "metadata": {},
   "outputs": [
    {
     "name": "stdout",
     "output_type": "stream",
     "text": [
      "[[ 0  1  2  3  4  5]\n",
      " [ 6  7  8  9 10 11]\n",
      " [12 13 14 15 16 17]\n",
      " [18 19 20 21 22 23]\n",
      " [24 25 26 27 28 29]]\n"
     ]
    }
   ],
   "source": [
    "# np.empty_like(ndarray)\n",
    "matrix = np.arange(30).reshape(5,6)\n",
    "print(np.empty_like(matrix))"
   ]
  },
  {
   "cell_type": "markdown",
   "metadata": {},
   "source": [
    "#### Identity\n",
    " - 단위 행렬 - 주대각선의 값이 1이고 나머지는 0인 정사각 행렬"
   ]
  },
  {
   "cell_type": "code",
   "execution_count": 390,
   "metadata": {},
   "outputs": [
    {
     "name": "stdout",
     "output_type": "stream",
     "text": [
      "[['1' '' '' '' '']\n",
      " ['' '1' '' '' '']\n",
      " ['' '' '1' '' '']\n",
      " ['' '' '' '1' '']\n",
      " ['' '' '' '' '1']]\n"
     ]
    }
   ],
   "source": [
    "# np.identity(size, dtype)\n",
    "print(np.identity(5,dtype=np.str_))"
   ]
  },
  {
   "cell_type": "code",
   "execution_count": 391,
   "metadata": {},
   "outputs": [
    {
     "name": "stdout",
     "output_type": "stream",
     "text": [
      "[[1 0]\n",
      " [0 1]]\n"
     ]
    }
   ],
   "source": [
    "print(np.identity(2, dtype=np.int8))"
   ]
  },
  {
   "cell_type": "markdown",
   "metadata": {},
   "source": [
    "#### Eye\n",
    " - 대각선이 1로 채워지는 행렬\n",
    " - 대각선의 시작 위치 지정 가능\n",
    " - k: 대각선의 시작 위치를 입력받은 수만큼 오른쪽으로 이동\n",
    " - M: 보여지는 열의 개수를 지정"
   ]
  },
  {
   "cell_type": "code",
   "execution_count": 392,
   "metadata": {},
   "outputs": [
    {
     "name": "stdout",
     "output_type": "stream",
     "text": [
      "[[1 0 0 0 0]\n",
      " [0 1 0 0 0]\n",
      " [0 0 1 0 0]\n",
      " [0 0 0 1 0]\n",
      " [0 0 0 0 1]]\n"
     ]
    }
   ],
   "source": [
    "# np.eye(size, M, k, dtype)\n",
    "print(np.eye(5, dtype=np.int8))"
   ]
  },
  {
   "cell_type": "code",
   "execution_count": 393,
   "metadata": {},
   "outputs": [
    {
     "name": "stdout",
     "output_type": "stream",
     "text": [
      "[[0. 0. 1. 0. 0.]\n",
      " [0. 0. 0. 1. 0.]\n",
      " [0. 0. 0. 0. 1.]\n",
      " [0. 0. 0. 0. 0.]\n",
      " [0. 0. 0. 0. 0.]]\n"
     ]
    }
   ],
   "source": [
    "print(np.eye(5,k=2))"
   ]
  },
  {
   "cell_type": "code",
   "execution_count": 394,
   "metadata": {},
   "outputs": [
    {
     "name": "stdout",
     "output_type": "stream",
     "text": [
      "[[0. 0. 0. 0. 0. 0. 0. 0. 0. 0.]\n",
      " [1. 0. 0. 0. 0. 0. 0. 0. 0. 0.]\n",
      " [0. 1. 0. 0. 0. 0. 0. 0. 0. 0.]\n",
      " [0. 0. 1. 0. 0. 0. 0. 0. 0. 0.]\n",
      " [0. 0. 0. 1. 0. 0. 0. 0. 0. 0.]]\n"
     ]
    }
   ],
   "source": [
    "print(np.eye(5, M=10, k=-1))"
   ]
  },
  {
   "cell_type": "markdown",
   "metadata": {},
   "source": [
    "#### Full\n",
    " - 입력 값으로 채워지는 행렬"
   ]
  },
  {
   "cell_type": "code",
   "execution_count": 395,
   "metadata": {},
   "outputs": [
    {
     "name": "stdout",
     "output_type": "stream",
     "text": [
      "[[5 5 5 5 5]\n",
      " [5 5 5 5 5]]\n"
     ]
    }
   ],
   "source": [
    "print(np.full((2,5), 5))"
   ]
  },
  {
   "cell_type": "code",
   "execution_count": 396,
   "metadata": {},
   "outputs": [
    {
     "name": "stdout",
     "output_type": "stream",
     "text": [
      "[['a' 'a' 'a' 'a']\n",
      " ['a' 'a' 'a' 'a']\n",
      " ['a' 'a' 'a' 'a']\n",
      " ['a' 'a' 'a' 'a']\n",
      " ['a' 'a' 'a' 'a']]\n"
     ]
    }
   ],
   "source": [
    "print(np.full((5,4),'a'))"
   ]
  },
  {
   "cell_type": "code",
   "execution_count": 397,
   "metadata": {},
   "outputs": [
    {
     "data": {
      "text/plain": [
       "array([[3., 3., 3.],\n",
       "       [3., 3., 3.],\n",
       "       [3., 3., 3.]])"
      ]
     },
     "execution_count": 397,
     "metadata": {},
     "output_type": "execute_result"
    }
   ],
   "source": [
    "np.ones((3,3)) * 3"
   ]
  },
  {
   "cell_type": "code",
   "execution_count": 398,
   "metadata": {},
   "outputs": [
    {
     "data": {
      "text/plain": [
       "array([[3, 3, 3],\n",
       "       [3, 3, 3],\n",
       "       [3, 3, 3]])"
      ]
     },
     "execution_count": 398,
     "metadata": {},
     "output_type": "execute_result"
    }
   ],
   "source": [
    "np.full((3,3),3)"
   ]
  },
  {
   "cell_type": "markdown",
   "metadata": {},
   "source": [
    "#### Random.randint\n",
    " - 주어진 범위 안의 랜덤한 값을 뽑는 함수"
   ]
  },
  {
   "cell_type": "code",
   "execution_count": 399,
   "metadata": {},
   "outputs": [
    {
     "name": "stdout",
     "output_type": "stream",
     "text": [
      "5\n"
     ]
    }
   ],
   "source": [
    "# np.random.randint(range)\n",
    "## 0~5까지의 정수중 하나뽑기\n",
    "print(np.random.randint(6))"
   ]
  },
  {
   "cell_type": "code",
   "execution_count": 400,
   "metadata": {},
   "outputs": [
    {
     "name": "stdout",
     "output_type": "stream",
     "text": [
      "12\n"
     ]
    }
   ],
   "source": [
    "## 1~19까지의 정수 중 하나 뽑기\n",
    "print(np.random.randint(1,20))"
   ]
  },
  {
   "cell_type": "code",
   "execution_count": 401,
   "metadata": {},
   "outputs": [
    {
     "name": "stdout",
     "output_type": "stream",
     "text": [
      "[ 4 10]\n"
     ]
    }
   ],
   "source": [
    "## 1~19까지의 정수 중 두개 뽑기\n",
    "print(np.random.randint(1,20,2))"
   ]
  },
  {
   "cell_type": "markdown",
   "metadata": {},
   "source": [
    "#### Random.rand\n",
    " - 랜덤한 값으로 채워지는 배열\n",
    " - 표준정규분포 난수를 shape 형태의 배열로 생성\n",
    " - 0~1사이의 값을 가짐"
   ]
  },
  {
   "cell_type": "code",
   "execution_count": 402,
   "metadata": {},
   "outputs": [
    {
     "name": "stdout",
     "output_type": "stream",
     "text": [
      "[0.25239491 0.53496044 0.23959811]\n"
     ]
    }
   ],
   "source": [
    "# np.random.rand(shape)\n",
    "print(np.random.rand(3))"
   ]
  },
  {
   "cell_type": "code",
   "execution_count": 403,
   "metadata": {},
   "outputs": [
    {
     "name": "stdout",
     "output_type": "stream",
     "text": [
      "[[0.87713704 0.95652661]\n",
      " [0.77244996 0.21521889]\n",
      " [0.00310066 0.326416  ]]\n"
     ]
    }
   ],
   "source": [
    "print(np.random.rand(3,2))"
   ]
  },
  {
   "cell_type": "markdown",
   "metadata": {},
   "source": [
    "#### Random.randn\n",
    " - 랜덤한 값으로 채워지는 배열\n",
    " - 평균 0, 표준편차 1의 가우시안 표준정규분포 난수를 shape 형태의 배열로 생성"
   ]
  },
  {
   "cell_type": "code",
   "execution_count": 404,
   "metadata": {},
   "outputs": [
    {
     "name": "stdout",
     "output_type": "stream",
     "text": [
      "[-0.35135194 -1.20543337 -0.14754808]\n"
     ]
    }
   ],
   "source": [
    "# np.random.randn(shape)\n",
    "print(np.random.randn(3))"
   ]
  },
  {
   "cell_type": "code",
   "execution_count": 405,
   "metadata": {},
   "outputs": [
    {
     "name": "stdout",
     "output_type": "stream",
     "text": [
      "[[ 2.29089648 -1.09859667]\n",
      " [ 1.166865    0.87383148]\n",
      " [-0.57340095  0.09655677]]\n"
     ]
    }
   ],
   "source": [
    "print(np.random.randn(3,2))"
   ]
  },
  {
   "cell_type": "markdown",
   "metadata": {},
   "source": [
    "#### 연산함수\n",
    " - 배열의 요소값들을 이용하여 연산을 할 수 있게 해주는 함수"
   ]
  },
  {
   "cell_type": "markdown",
   "metadata": {},
   "source": [
    "#### 합(Sum)\n",
    " - 요소들의 합을 구해주는 함수\n",
    " - ndarray.sum()"
   ]
  },
  {
   "cell_type": "code",
   "execution_count": 406,
   "metadata": {},
   "outputs": [
    {
     "name": "stdout",
     "output_type": "stream",
     "text": [
      "21\n"
     ]
    }
   ],
   "source": [
    "# 2차원 배열 합\n",
    "matrix = np.arange(1,7).reshape(2,3)\n",
    "print(matrix.sum())"
   ]
  },
  {
   "cell_type": "code",
   "execution_count": 407,
   "metadata": {},
   "outputs": [
    {
     "name": "stdout",
     "output_type": "stream",
     "text": [
      "[5 7 9]\n",
      "[ 6 15]\n"
     ]
    }
   ],
   "source": [
    "print(matrix.sum(axis=0))   #행끼리 더하기(위아래)\n",
    "print(matrix.sum(axis=1))   #열끼리 더하기(좌 우)"
   ]
  },
  {
   "cell_type": "code",
   "execution_count": 408,
   "metadata": {},
   "outputs": [
    {
     "name": "stdout",
     "output_type": "stream",
     "text": [
      "[[[ 1  2  3]\n",
      "  [ 4  5  6]]\n",
      "\n",
      " [[ 7  8  9]\n",
      "  [10 11 12]]\n",
      "\n",
      " [[13 14 15]\n",
      "  [16 17 18]]]\n",
      "171\n"
     ]
    }
   ],
   "source": [
    "# 3차원 배열 합\n",
    "tensor = np.arange(1,19).reshape(3,2,3)\n",
    "print(tensor)\n",
    "print(tensor.sum())"
   ]
  },
  {
   "cell_type": "code",
   "execution_count": 409,
   "metadata": {},
   "outputs": [
    {
     "name": "stdout",
     "output_type": "stream",
     "text": [
      "[[21 24 27]\n",
      " [30 33 36]]\n",
      "[[ 5  7  9]\n",
      " [17 19 21]\n",
      " [29 31 33]]\n",
      "[[ 6 15]\n",
      " [24 33]\n",
      " [42 51]]\n"
     ]
    }
   ],
   "source": [
    "# 3차원 배열 합\n",
    "print(tensor.sum(axis=0))\n",
    "print(tensor.sum(axis=1))\n",
    "print(tensor.sum(axis=2))"
   ]
  },
  {
   "cell_type": "markdown",
   "metadata": {},
   "source": [
    "#### 평균(mean)\n",
    " - 합과 동일"
   ]
  },
  {
   "cell_type": "code",
   "execution_count": 410,
   "metadata": {},
   "outputs": [
    {
     "name": "stdout",
     "output_type": "stream",
     "text": [
      "3.5\n",
      "[2.5 3.5 4.5]\n",
      "[2. 5.]\n"
     ]
    }
   ],
   "source": [
    "# 2차원 배열 평균\n",
    "print(matrix.mean())         # 전체평균\n",
    "print(matrix.mean(axis=0))   # 행끼리 평균(위아래)\n",
    "print(matrix.mean(axis=1))   # 열끼리 평균(좌 우)"
   ]
  },
  {
   "cell_type": "markdown",
   "metadata": {},
   "source": [
    "#### 표준 편차(std)\n",
    " - 합, 평균과 동일"
   ]
  },
  {
   "cell_type": "code",
   "execution_count": 411,
   "metadata": {},
   "outputs": [
    {
     "name": "stdout",
     "output_type": "stream",
     "text": [
      "1.707825127659933\n",
      "[1.5 1.5 1.5]\n",
      "[0.81649658 0.81649658]\n"
     ]
    }
   ],
   "source": [
    "# 2차원 배열 표준 편차\n",
    "print(matrix.std())        # 전체 표준 편차\n",
    "print(matrix.std(axis=0))  # 행끼리 표준 편차(위 아래)\n",
    "print(matrix.std(axis=1))  # 열끼리 표준 편차(좌 우)"
   ]
  },
  {
   "cell_type": "markdown",
   "metadata": {},
   "source": [
    "#### 그 외 수학 연산자"
   ]
  },
  {
   "cell_type": "code",
   "execution_count": 412,
   "metadata": {},
   "outputs": [
    {
     "name": "stdout",
     "output_type": "stream",
     "text": [
      "[[  2.71828183   7.3890561   20.08553692]\n",
      " [ 54.59815003 148.4131591  403.42879349]]\n"
     ]
    }
   ],
   "source": [
    "# 지수(exp)\n",
    "print(np.exp(matrix))"
   ]
  },
  {
   "cell_type": "code",
   "execution_count": 413,
   "metadata": {},
   "outputs": [
    {
     "name": "stdout",
     "output_type": "stream",
     "text": [
      "[[0.         0.69314718 1.09861229]\n",
      " [1.38629436 1.60943791 1.79175947]]\n"
     ]
    }
   ],
   "source": [
    "# 로그(log)\n",
    "print(np.log(matrix))"
   ]
  },
  {
   "cell_type": "code",
   "execution_count": 414,
   "metadata": {},
   "outputs": [
    {
     "name": "stdout",
     "output_type": "stream",
     "text": [
      "[[1.         1.41421356 1.73205081]\n",
      " [2.         2.23606798 2.44948974]]\n"
     ]
    }
   ],
   "source": [
    "# 제곱근(sqrt)\n",
    "print(np.sqrt(matrix))"
   ]
  },
  {
   "cell_type": "code",
   "execution_count": 415,
   "metadata": {},
   "outputs": [
    {
     "name": "stdout",
     "output_type": "stream",
     "text": [
      "[[ 0.84147098  0.90929743  0.14112001]\n",
      " [-0.7568025  -0.95892427 -0.2794155 ]]\n"
     ]
    }
   ],
   "source": [
    "# 삼각함수(sin)\n",
    "print(np.sin(matrix))"
   ]
  },
  {
   "cell_type": "code",
   "execution_count": 416,
   "metadata": {},
   "outputs": [
    {
     "name": "stdout",
     "output_type": "stream",
     "text": [
      "[[ 0.54030231 -0.41614684 -0.9899925 ]\n",
      " [-0.65364362  0.28366219  0.96017029]]\n"
     ]
    }
   ],
   "source": [
    "# 삼각함수(cos)\n",
    "print(np.cos(matrix))"
   ]
  },
  {
   "cell_type": "code",
   "execution_count": 417,
   "metadata": {},
   "outputs": [
    {
     "name": "stdout",
     "output_type": "stream",
     "text": [
      "[[ 1.55740772 -2.18503986 -0.14254654]\n",
      " [ 1.15782128 -3.38051501 -0.29100619]]\n"
     ]
    }
   ],
   "source": [
    "# 삼각함수(tan)\n",
    "print(np.tan(matrix))"
   ]
  },
  {
   "cell_type": "markdown",
   "metadata": {},
   "source": [
    "#### 배열 정렬(Sort)"
   ]
  },
  {
   "cell_type": "code",
   "execution_count": 418,
   "metadata": {},
   "outputs": [
    {
     "name": "stdout",
     "output_type": "stream",
     "text": [
      "[69 37 19 78 65]\n"
     ]
    }
   ],
   "source": [
    "# 1차원 배열 정렬\n",
    "## randint를 사용하여 1~100숫자 중 5개를 뽑아 배열 생성\n",
    "vector = np.array([np.random.randint(1,100)\n",
    "                   for n in range(5)])\n",
    "print(vector)"
   ]
  },
  {
   "cell_type": "code",
   "execution_count": 419,
   "metadata": {},
   "outputs": [
    {
     "data": {
      "text/plain": [
       "[3, 9, 15, 21, 27]"
      ]
     },
     "execution_count": 419,
     "metadata": {},
     "output_type": "execute_result"
    }
   ],
   "source": [
    "## 리스트 내 for문\n",
    "list_ = [1,2,3,4,5,6,7,8,9,10]\n",
    "list2_ = [num * 3 for num in list_ if num % 2 == 1]\n",
    "list2_"
   ]
  },
  {
   "cell_type": "code",
   "execution_count": 420,
   "metadata": {},
   "outputs": [
    {
     "name": "stdout",
     "output_type": "stream",
     "text": [
      "[19 37 65 69 78]\n"
     ]
    }
   ],
   "source": [
    "print(np.sort(vector))         #오름차순으로 정렬"
   ]
  },
  {
   "cell_type": "code",
   "execution_count": 421,
   "metadata": {},
   "outputs": [
    {
     "name": "stdout",
     "output_type": "stream",
     "text": [
      "[78 69 65 37 19]\n"
     ]
    }
   ],
   "source": [
    "print(np.sort(vector)[::-1])   #내림차순으로 정렬"
   ]
  },
  {
   "cell_type": "code",
   "execution_count": 422,
   "metadata": {},
   "outputs": [
    {
     "name": "stdout",
     "output_type": "stream",
     "text": [
      "[[22 26 95 93 33]\n",
      " [73 36 84 41  8]\n",
      " [53 97 34 30  5]\n",
      " [11 76 18 15 84]]\n"
     ]
    }
   ],
   "source": [
    "# 2차원 배열 정렬\n",
    "## randint를 사용하여 1~100숫자중20개를 뽑아 배열 생성\n",
    "matrix = np.array([np.random.randint(1,100)\n",
    "                   for n in range(20)]).reshape(4,5)\n",
    "print(matrix)"
   ]
  },
  {
   "cell_type": "code",
   "execution_count": 423,
   "metadata": {},
   "outputs": [
    {
     "name": "stdout",
     "output_type": "stream",
     "text": [
      "[[22 26 33 93 95]\n",
      " [ 8 36 41 73 84]\n",
      " [ 5 30 34 53 97]\n",
      " [11 15 18 76 84]]\n"
     ]
    }
   ],
   "source": [
    "print(np.sort(matrix))     # 열 기준으로 정렬"
   ]
  },
  {
   "cell_type": "code",
   "execution_count": 424,
   "metadata": {},
   "outputs": [
    {
     "name": "stdout",
     "output_type": "stream",
     "text": [
      "[[11 26 18 15  5]\n",
      " [22 36 34 30  8]\n",
      " [53 76 84 41 33]\n",
      " [73 97 95 93 84]]\n"
     ]
    }
   ],
   "source": [
    "print(np.sort(matrix, axis=0))   # 행 기준으로 정렬"
   ]
  },
  {
   "cell_type": "markdown",
   "metadata": {},
   "source": [
    "#### 배열 합치기 (Vstack)\n",
    " - 2개 이상의 배열을 수직으로 합체"
   ]
  },
  {
   "cell_type": "code",
   "execution_count": 425,
   "metadata": {},
   "outputs": [
    {
     "name": "stdout",
     "output_type": "stream",
     "text": [
      "[[1 2 3]\n",
      " [4 5 6]]\n"
     ]
    }
   ],
   "source": [
    "# np.vstack([arr1, arr2])\n",
    "vector1 = np.array([1,2,3])\n",
    "vector2 = np.array([4,5,6])\n",
    "\n",
    "print(np.vstack([vector1, vector2]))"
   ]
  },
  {
   "cell_type": "code",
   "execution_count": 426,
   "metadata": {},
   "outputs": [
    {
     "name": "stdout",
     "output_type": "stream",
     "text": [
      "[[1 4]\n",
      " [2 5]\n",
      " [3 6]]\n"
     ]
    }
   ],
   "source": [
    "# np.hstack([arr1, arr2])\n",
    "vector1 = np.array([1,2,3]).reshape(3,1)\n",
    "vector2 = np.array([4,5,6]).reshape(3,1)\n",
    "\n",
    "print(np.hstack([vector1, vector2]))"
   ]
  },
  {
   "cell_type": "markdown",
   "metadata": {},
   "source": [
    "#### 배열 합치기(Concatenate)\n",
    " - 2개 이상의 배열을 수직, 수평으로 합체"
   ]
  },
  {
   "cell_type": "code",
   "execution_count": 427,
   "metadata": {},
   "outputs": [
    {
     "name": "stdout",
     "output_type": "stream",
     "text": [
      "[1 2 3 4 5 6]\n"
     ]
    }
   ],
   "source": [
    "# np.concatenate(arr1, arr2, axis)\n",
    "## 1차원은 수직으로 결합 X\n",
    "vector1 = np.array([1,2,3])\n",
    "vector2 = np.array([4,5,6])\n",
    "print(np.concatenate([vector1, vector2], axis=0))"
   ]
  },
  {
   "cell_type": "code",
   "execution_count": 428,
   "metadata": {},
   "outputs": [
    {
     "name": "stdout",
     "output_type": "stream",
     "text": [
      "[[1 4]\n",
      " [2 5]\n",
      " [3 6]]\n"
     ]
    }
   ],
   "source": [
    "####\n",
    "matrix1 = np.array([1,2,3]).reshape(3,1)\n",
    "matrix2 = np.array([4,5,6]).reshape(3,1)\n",
    "print(np.concatenate([matrix1, matrix2], axis=1))"
   ]
  },
  {
   "cell_type": "code",
   "execution_count": 429,
   "metadata": {},
   "outputs": [
    {
     "name": "stdout",
     "output_type": "stream",
     "text": [
      "[[1 4]\n",
      " [2 5]\n",
      " [3 6]]\n"
     ]
    }
   ],
   "source": [
    "# np.concatenate(arr1, arr2, axis)\n",
    "vector1 = np.array([1,2,3]).reshape(3,1)\n",
    "vector2 = np.array([4,5,6]).reshape(3,1)\n",
    "\n",
    "print(np.concatenate([vector1, vector2], axis=1))"
   ]
  },
  {
   "cell_type": "code",
   "execution_count": 430,
   "metadata": {},
   "outputs": [
    {
     "name": "stdout",
     "output_type": "stream",
     "text": [
      "[[1 2 4]\n",
      " [3 1 5]\n",
      " [2 3 6]]\n"
     ]
    }
   ],
   "source": [
    "matrix1 = np.array([[1,2,3],[1,2,3]]).reshape(3,2)\n",
    "vector2 = np.array([4,5,6]).reshape(3,1)\n",
    "\n",
    "print(np.concatenate([matrix1, vector2], axis=1))"
   ]
  },
  {
   "cell_type": "code",
   "execution_count": 433,
   "metadata": {},
   "outputs": [
    {
     "name": "stdout",
     "output_type": "stream",
     "text": [
      "[[1 2]\n",
      " [3 4]\n",
      " [5 6]\n",
      " [7 8]]\n"
     ]
    }
   ],
   "source": [
    "matrix1 = np.arange(1,5).reshape(2,2)\n",
    "matrix2 = np.arange(5,9).reshape(2,2)\n",
    "print(np.concatenate([matrix1, matrix2], axis=0))"
   ]
  },
  {
   "cell_type": "code",
   "execution_count": 434,
   "metadata": {},
   "outputs": [
    {
     "name": "stdout",
     "output_type": "stream",
     "text": [
      "[[1 2 5 6]\n",
      " [3 4 7 8]]\n"
     ]
    }
   ],
   "source": [
    "matrix1 = np.arange(1,5).reshape(2,2)\n",
    "matrix2 = np.arange(5,9).reshape(2,2)\n",
    "print(np.concatenate([matrix1, matrix2], axis=1))"
   ]
  },
  {
   "cell_type": "markdown",
   "metadata": {},
   "source": [
    "#### 행/열 바꾸기(transpose)\n",
    " - 행과 열을 뒤집어 주는 함수"
   ]
  },
  {
   "cell_type": "code",
   "execution_count": 435,
   "metadata": {},
   "outputs": [
    {
     "name": "stdout",
     "output_type": "stream",
     "text": [
      "[[5 6]]\n"
     ]
    }
   ],
   "source": [
    "# ndarray.tranpose()\n",
    "# ndarray.T\n",
    "matrix3 = np.array([[5,6]])\n",
    "print(matrix3)"
   ]
  },
  {
   "cell_type": "code",
   "execution_count": 438,
   "metadata": {},
   "outputs": [
    {
     "name": "stdout",
     "output_type": "stream",
     "text": [
      "(1, 2) (2, 1)\n",
      "[[5]\n",
      " [6]]\n"
     ]
    }
   ],
   "source": [
    "print(matrix3.shape, matrix3.transpose().shape)\n",
    "print(matrix3.T)"
   ]
  },
  {
   "cell_type": "markdown",
   "metadata": {},
   "source": [
    "#### Transpose + Concatenate\n",
    " - 형태를 바꿔 서로 결합할 수 없는 배열을 합칠 수 있다."
   ]
  },
  {
   "cell_type": "code",
   "execution_count": 439,
   "metadata": {},
   "outputs": [
    {
     "name": "stdout",
     "output_type": "stream",
     "text": [
      "[[1 2]\n",
      " [3 4]\n",
      " [5 6]]\n"
     ]
    }
   ],
   "source": [
    "print(np.concatenate([matrix1, matrix3]))"
   ]
  },
  {
   "cell_type": "code",
   "execution_count": 440,
   "metadata": {},
   "outputs": [
    {
     "ename": "ValueError",
     "evalue": "all the input array dimensions for the concatenation axis must match exactly, but along dimension 0, the array at index 0 has size 2 and the array at index 1 has size 1",
     "output_type": "error",
     "traceback": [
      "\u001b[1;31m---------------------------------------------------------------------------\u001b[0m",
      "\u001b[1;31mValueError\u001b[0m                                Traceback (most recent call last)",
      "\u001b[1;32mc:\\STUDY\\Numpy\\02_numpy활용.ipynb Cell 98'\u001b[0m in \u001b[0;36m<cell line: 1>\u001b[1;34m()\u001b[0m\n\u001b[1;32m----> <a href='vscode-notebook-cell:/c%3A/STUDY/Numpy/02_numpy%ED%99%9C%EC%9A%A9.ipynb#ch0000104?line=0'>1</a>\u001b[0m \u001b[39mprint\u001b[39m(np\u001b[39m.\u001b[39;49mconcatenate([matrix1, matrix3], axis\u001b[39m=\u001b[39;49m\u001b[39m1\u001b[39;49m))\n",
      "File \u001b[1;32m<__array_function__ internals>:180\u001b[0m, in \u001b[0;36mconcatenate\u001b[1;34m(*args, **kwargs)\u001b[0m\n",
      "\u001b[1;31mValueError\u001b[0m: all the input array dimensions for the concatenation axis must match exactly, but along dimension 0, the array at index 0 has size 2 and the array at index 1 has size 1"
     ]
    }
   ],
   "source": [
    "# 오류나는거맞음\n",
    "print(np.concatenate([matrix1, matrix3], axis=1))"
   ]
  },
  {
   "cell_type": "code",
   "execution_count": 441,
   "metadata": {},
   "outputs": [
    {
     "name": "stdout",
     "output_type": "stream",
     "text": [
      "[[1 2 5]\n",
      " [3 4 6]]\n"
     ]
    }
   ],
   "source": [
    "print(np.concatenate([matrix1, matrix3.T],axis=1))"
   ]
  },
  {
   "cell_type": "markdown",
   "metadata": {},
   "source": [
    "#### 인덱스 반환 함수\n",
    " - 최대값, 최소값의 인덱스\n",
    " - argmax, argmin"
   ]
  },
  {
   "cell_type": "code",
   "execution_count": 442,
   "metadata": {},
   "outputs": [
    {
     "name": "stdout",
     "output_type": "stream",
     "text": [
      "[[ 1  2  3  4  5]\n",
      " [ 6  7  8  9 10]]\n"
     ]
    }
   ],
   "source": [
    "a = np.arange(1,11).reshape(2,5)\n",
    "print(a)"
   ]
  },
  {
   "cell_type": "code",
   "execution_count": 443,
   "metadata": {},
   "outputs": [
    {
     "name": "stdout",
     "output_type": "stream",
     "text": [
      "9 0\n"
     ]
    }
   ],
   "source": [
    "print(np.argmax(a), np.argmin(a))"
   ]
  },
  {
   "cell_type": "code",
   "execution_count": 444,
   "metadata": {},
   "outputs": [
    {
     "name": "stdout",
     "output_type": "stream",
     "text": [
      "[1 1 1 1 1]\n"
     ]
    }
   ],
   "source": [
    "print(np.argmax(a, axis=0))"
   ]
  },
  {
   "cell_type": "code",
   "execution_count": 445,
   "metadata": {},
   "outputs": [
    {
     "name": "stdout",
     "output_type": "stream",
     "text": [
      "[[1 2 3 4]\n",
      " [2 3 4 1]\n",
      " [3 4 1 2]]\n"
     ]
    }
   ],
   "source": [
    "#\n",
    "b = np.array([[1,2,3,4],[2,3,4,1],[3,4,1,2]])\n",
    "print(b)"
   ]
  },
  {
   "cell_type": "code",
   "execution_count": 448,
   "metadata": {},
   "outputs": [
    {
     "name": "stdout",
     "output_type": "stream",
     "text": [
      "[0 3 2]\n"
     ]
    }
   ],
   "source": [
    "print(np.argmin(b, axis=1))"
   ]
  },
  {
   "cell_type": "code",
   "execution_count": 449,
   "metadata": {},
   "outputs": [
    {
     "name": "stdout",
     "output_type": "stream",
     "text": [
      "[0 0 2 1]\n"
     ]
    }
   ],
   "source": [
    "print(np.argmin(b, axis=0))"
   ]
  },
  {
   "cell_type": "markdown",
   "metadata": {},
   "source": [
    "#### 배열 인덱싱(Fancy Index)\n",
    " - 인덱스의 값을 가지는 배열을 통해 인덱싱"
   ]
  },
  {
   "cell_type": "code",
   "execution_count": 450,
   "metadata": {},
   "outputs": [
    {
     "name": "stdout",
     "output_type": "stream",
     "text": [
      "[ 1  2  3  4  5  6  7  8  9 10]\n",
      "[3 4 5 6]\n"
     ]
    }
   ],
   "source": [
    "a = np.arange(1,11)\n",
    "b = np.array([3,4,5,6])\n",
    "print(a)\n",
    "print(b)"
   ]
  },
  {
   "cell_type": "code",
   "execution_count": 451,
   "metadata": {},
   "outputs": [
    {
     "name": "stdout",
     "output_type": "stream",
     "text": [
      "[4 5 6 7]\n"
     ]
    }
   ],
   "source": [
    "print(a[b])"
   ]
  },
  {
   "cell_type": "code",
   "execution_count": 452,
   "metadata": {},
   "outputs": [
    {
     "name": "stdout",
     "output_type": "stream",
     "text": [
      "[10 11 12 13 14 15 16 17 18 19]\n",
      "9\n"
     ]
    }
   ],
   "source": [
    "# 인덱스 반환 함수 + fancy index\n",
    "a = np.arange(10,20)\n",
    "b = np.argmax(a)\n",
    "print(a)\n",
    "print(b)"
   ]
  },
  {
   "cell_type": "code",
   "execution_count": 453,
   "metadata": {},
   "outputs": [
    {
     "name": "stdout",
     "output_type": "stream",
     "text": [
      "19\n"
     ]
    }
   ],
   "source": [
    "print(a[b])"
   ]
  }
 ],
 "metadata": {
  "interpreter": {
   "hash": "38ae1ba9371524da054e8e3fbefd778d16b5a8ac7937a3f395010f627bb73919"
  },
  "kernelspec": {
   "display_name": "Python 3.9.12 64-bit",
   "language": "python",
   "name": "python3"
  },
  "language_info": {
   "codemirror_mode": {
    "name": "ipython",
    "version": 3
   },
   "file_extension": ".py",
   "mimetype": "text/x-python",
   "name": "python",
   "nbconvert_exporter": "python",
   "pygments_lexer": "ipython3",
   "version": "3.9.12"
  },
  "orig_nbformat": 4
 },
 "nbformat": 4,
 "nbformat_minor": 2
}
